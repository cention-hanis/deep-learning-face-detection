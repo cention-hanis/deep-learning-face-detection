{
  "cells": [
    {
      "cell_type": "code",
      "execution_count": null,
      "metadata": {
        "id": "ZtKVzWltBW1O"
      },
      "outputs": [],
      "source": [
        "import pandas as pd\n",
        "import numpy as np\n",
        "import matplotlib.pyplot as plt\n",
        "from sklearn.model_selection import train_test_split\n",
        "from sklearn.metrics import accuracy_score, roc_curve, roc_auc_score\n",
        "from keras.preprocessing.image import ImageDataGenerator\n",
        "from keras.models import Sequential\n",
        "from keras.models import Model\n",
        "from keras.layers import Input, Conv2D, MaxPooling2D, Flatten, Dense, Lambda\n",
        "from sklearn.svm import SVC\n",
        "from sklearn.model_selection import StratifiedKFold\n",
        "from sklearn.preprocessing import LabelEncoder\n",
        "from torchvision import transforms\n",
        "import psutil\n",
        "import cv2"
      ]
    },
    {
      "cell_type": "code",
      "source": [
        "from sklearn.preprocessing import label_binarize"
      ],
      "metadata": {
        "id": "tfGRnDt4Q8lr"
      },
      "execution_count": null,
      "outputs": []
    },
    {
      "cell_type": "code",
      "execution_count": null,
      "metadata": {
        "id": "8CcVNbDxzvLV",
        "colab": {
          "base_uri": "https://localhost:8080/"
        },
        "outputId": "755151f4-3ac4-4363-f726-6154e7c0a4d3"
      },
      "outputs": [
        {
          "output_type": "stream",
          "name": "stdout",
          "text": [
            "Requirement already satisfied: tensorflow-cpu in /usr/local/lib/python3.10/dist-packages (2.12.0)\n",
            "Requirement already satisfied: absl-py>=1.0.0 in /usr/local/lib/python3.10/dist-packages (from tensorflow-cpu) (1.4.0)\n",
            "Requirement already satisfied: astunparse>=1.6.0 in /usr/local/lib/python3.10/dist-packages (from tensorflow-cpu) (1.6.3)\n",
            "Requirement already satisfied: flatbuffers>=2.0 in /usr/local/lib/python3.10/dist-packages (from tensorflow-cpu) (23.5.26)\n",
            "Requirement already satisfied: gast<=0.4.0,>=0.2.1 in /usr/local/lib/python3.10/dist-packages (from tensorflow-cpu) (0.4.0)\n",
            "Requirement already satisfied: google-pasta>=0.1.1 in /usr/local/lib/python3.10/dist-packages (from tensorflow-cpu) (0.2.0)\n",
            "Requirement already satisfied: grpcio<2.0,>=1.24.3 in /usr/local/lib/python3.10/dist-packages (from tensorflow-cpu) (1.56.0)\n",
            "Requirement already satisfied: h5py>=2.9.0 in /usr/local/lib/python3.10/dist-packages (from tensorflow-cpu) (3.8.0)\n",
            "Requirement already satisfied: jax>=0.3.15 in /usr/local/lib/python3.10/dist-packages (from tensorflow-cpu) (0.4.10)\n",
            "Requirement already satisfied: keras<2.13,>=2.12.0 in /usr/local/lib/python3.10/dist-packages (from tensorflow-cpu) (2.12.0)\n",
            "Requirement already satisfied: libclang>=13.0.0 in /usr/local/lib/python3.10/dist-packages (from tensorflow-cpu) (16.0.0)\n",
            "Requirement already satisfied: numpy<1.24,>=1.22 in /usr/local/lib/python3.10/dist-packages (from tensorflow-cpu) (1.22.4)\n",
            "Requirement already satisfied: opt-einsum>=2.3.2 in /usr/local/lib/python3.10/dist-packages (from tensorflow-cpu) (3.3.0)\n",
            "Requirement already satisfied: packaging in /usr/local/lib/python3.10/dist-packages (from tensorflow-cpu) (23.1)\n",
            "Requirement already satisfied: protobuf!=4.21.0,!=4.21.1,!=4.21.2,!=4.21.3,!=4.21.4,!=4.21.5,<5.0.0dev,>=3.20.3 in /usr/local/lib/python3.10/dist-packages (from tensorflow-cpu) (3.20.3)\n",
            "Requirement already satisfied: setuptools in /usr/local/lib/python3.10/dist-packages (from tensorflow-cpu) (67.7.2)\n",
            "Requirement already satisfied: six>=1.12.0 in /usr/local/lib/python3.10/dist-packages (from tensorflow-cpu) (1.16.0)\n",
            "Requirement already satisfied: tensorboard<2.13,>=2.12 in /usr/local/lib/python3.10/dist-packages (from tensorflow-cpu) (2.12.3)\n",
            "Requirement already satisfied: tensorflow-estimator<2.13,>=2.12.0 in /usr/local/lib/python3.10/dist-packages (from tensorflow-cpu) (2.12.0)\n",
            "Requirement already satisfied: termcolor>=1.1.0 in /usr/local/lib/python3.10/dist-packages (from tensorflow-cpu) (2.3.0)\n",
            "Requirement already satisfied: typing-extensions>=3.6.6 in /usr/local/lib/python3.10/dist-packages (from tensorflow-cpu) (4.6.3)\n",
            "Requirement already satisfied: wrapt<1.15,>=1.11.0 in /usr/local/lib/python3.10/dist-packages (from tensorflow-cpu) (1.14.1)\n",
            "Requirement already satisfied: tensorflow-io-gcs-filesystem>=0.23.1 in /usr/local/lib/python3.10/dist-packages (from tensorflow-cpu) (0.32.0)\n",
            "Requirement already satisfied: wheel<1.0,>=0.23.0 in /usr/local/lib/python3.10/dist-packages (from astunparse>=1.6.0->tensorflow-cpu) (0.40.0)\n",
            "Requirement already satisfied: ml-dtypes>=0.1.0 in /usr/local/lib/python3.10/dist-packages (from jax>=0.3.15->tensorflow-cpu) (0.2.0)\n",
            "Requirement already satisfied: scipy>=1.7 in /usr/local/lib/python3.10/dist-packages (from jax>=0.3.15->tensorflow-cpu) (1.10.1)\n",
            "Requirement already satisfied: google-auth<3,>=1.6.3 in /usr/local/lib/python3.10/dist-packages (from tensorboard<2.13,>=2.12->tensorflow-cpu) (2.17.3)\n",
            "Requirement already satisfied: google-auth-oauthlib<1.1,>=0.5 in /usr/local/lib/python3.10/dist-packages (from tensorboard<2.13,>=2.12->tensorflow-cpu) (1.0.0)\n",
            "Requirement already satisfied: markdown>=2.6.8 in /usr/local/lib/python3.10/dist-packages (from tensorboard<2.13,>=2.12->tensorflow-cpu) (3.4.3)\n",
            "Requirement already satisfied: requests<3,>=2.21.0 in /usr/local/lib/python3.10/dist-packages (from tensorboard<2.13,>=2.12->tensorflow-cpu) (2.27.1)\n",
            "Requirement already satisfied: tensorboard-data-server<0.8.0,>=0.7.0 in /usr/local/lib/python3.10/dist-packages (from tensorboard<2.13,>=2.12->tensorflow-cpu) (0.7.1)\n",
            "Requirement already satisfied: werkzeug>=1.0.1 in /usr/local/lib/python3.10/dist-packages (from tensorboard<2.13,>=2.12->tensorflow-cpu) (2.3.6)\n",
            "Requirement already satisfied: cachetools<6.0,>=2.0.0 in /usr/local/lib/python3.10/dist-packages (from google-auth<3,>=1.6.3->tensorboard<2.13,>=2.12->tensorflow-cpu) (5.3.1)\n",
            "Requirement already satisfied: pyasn1-modules>=0.2.1 in /usr/local/lib/python3.10/dist-packages (from google-auth<3,>=1.6.3->tensorboard<2.13,>=2.12->tensorflow-cpu) (0.3.0)\n",
            "Requirement already satisfied: rsa<5,>=3.1.4 in /usr/local/lib/python3.10/dist-packages (from google-auth<3,>=1.6.3->tensorboard<2.13,>=2.12->tensorflow-cpu) (4.9)\n",
            "Requirement already satisfied: requests-oauthlib>=0.7.0 in /usr/local/lib/python3.10/dist-packages (from google-auth-oauthlib<1.1,>=0.5->tensorboard<2.13,>=2.12->tensorflow-cpu) (1.3.1)\n",
            "Requirement already satisfied: urllib3<1.27,>=1.21.1 in /usr/local/lib/python3.10/dist-packages (from requests<3,>=2.21.0->tensorboard<2.13,>=2.12->tensorflow-cpu) (1.26.16)\n",
            "Requirement already satisfied: certifi>=2017.4.17 in /usr/local/lib/python3.10/dist-packages (from requests<3,>=2.21.0->tensorboard<2.13,>=2.12->tensorflow-cpu) (2023.5.7)\n",
            "Requirement already satisfied: charset-normalizer~=2.0.0 in /usr/local/lib/python3.10/dist-packages (from requests<3,>=2.21.0->tensorboard<2.13,>=2.12->tensorflow-cpu) (2.0.12)\n",
            "Requirement already satisfied: idna<4,>=2.5 in /usr/local/lib/python3.10/dist-packages (from requests<3,>=2.21.0->tensorboard<2.13,>=2.12->tensorflow-cpu) (3.4)\n",
            "Requirement already satisfied: MarkupSafe>=2.1.1 in /usr/local/lib/python3.10/dist-packages (from werkzeug>=1.0.1->tensorboard<2.13,>=2.12->tensorflow-cpu) (2.1.3)\n",
            "Requirement already satisfied: pyasn1<0.6.0,>=0.4.6 in /usr/local/lib/python3.10/dist-packages (from pyasn1-modules>=0.2.1->google-auth<3,>=1.6.3->tensorboard<2.13,>=2.12->tensorflow-cpu) (0.5.0)\n",
            "Requirement already satisfied: oauthlib>=3.0.0 in /usr/local/lib/python3.10/dist-packages (from requests-oauthlib>=0.7.0->google-auth-oauthlib<1.1,>=0.5->tensorboard<2.13,>=2.12->tensorflow-cpu) (3.2.2)\n"
          ]
        }
      ],
      "source": [
        "!pip install tensorflow-cpu\n"
      ]
    },
    {
      "cell_type": "markdown",
      "metadata": {
        "id": "KbhwTJhuz9az"
      },
      "source": [
        "#Data collection"
      ]
    },
    {
      "cell_type": "code",
      "execution_count": null,
      "metadata": {
        "colab": {
          "base_uri": "https://localhost:8080/"
        },
        "id": "mzrJkn8XLobP",
        "outputId": "c0b06b1b-05db-475c-98b8-df009e770c22"
      },
      "outputs": [
        {
          "output_type": "stream",
          "name": "stdout",
          "text": [
            "age           int64\n",
            "ethnicity     int64\n",
            "gender        int64\n",
            "img_name     object\n",
            "pixels       object\n",
            "dtype: object\n"
          ]
        }
      ],
      "source": [
        "# dataset_folder_name = '../input/utkface-new/UTKFace'\n",
        "# df = parse_dataset(dataset_folder_name)\n",
        "df = pd.read_csv('utkFace1_int.csv')\n",
        "df\n",
        "print(df.dtypes)"
      ]
    },
    {
      "cell_type": "markdown",
      "metadata": {
        "id": "2nxUcac0r6Yp"
      },
      "source": [
        "####pixels string to float."
      ]
    },
    {
      "cell_type": "code",
      "source": [
        "df['pixels'] = df['pixels'].apply(lambda x: [float(pixel) for pixel in x.strip(\"'\").split()])"
      ],
      "metadata": {
        "id": "2dVxf7sSO7iH"
      },
      "execution_count": null,
      "outputs": []
    },
    {
      "cell_type": "code",
      "source": [
        "# Convert pixels to NumPy array\n",
        "X = np.array(df['pixels'].tolist())\n",
        "\n",
        "# Normalize pixel values to the range of [0, 1]\n",
        "X = X / 255.0\n",
        "\n",
        "# Convert the target labels to integers\n",
        "y = df['ethnicity'].values.astype(int)\n",
        "print(df.dtypes)"
      ],
      "metadata": {
        "colab": {
          "base_uri": "https://localhost:8080/"
        },
        "id": "i6eohp1PHAwd",
        "outputId": "a5f8e800-7be3-462e-e43a-e3bda60b29a4"
      },
      "execution_count": null,
      "outputs": [
        {
          "output_type": "stream",
          "name": "stdout",
          "text": [
            "age           int64\n",
            "ethnicity     int64\n",
            "gender        int64\n",
            "img_name     object\n",
            "pixels       object\n",
            "dtype: object\n"
          ]
        }
      ]
    },
    {
      "cell_type": "code",
      "source": [
        "from sklearn.model_selection import train_test_split\n",
        "from sklearn.metrics import accuracy_score, roc_auc_score\n",
        "\n",
        "# Split the data into training and validation sets\n",
        "X_train, X_valid, y_train, y_valid = train_test_split(X, y, test_size=0.2, random_state=42)"
      ],
      "metadata": {
        "id": "ZTLh1075HCfU"
      },
      "execution_count": null,
      "outputs": []
    },
    {
      "cell_type": "code",
      "source": [
        "import numpy as np\n",
        "from sklearn.metrics import accuracy_score, roc_auc_score\n",
        "\n",
        "def evaluate_model(model, X, y):\n",
        "    y_pred_proba = model.predict(X)\n",
        "    y_pred = np.argmax(y_pred_proba, axis=1)\n",
        "\n",
        "    accuracy = accuracy_score(np.argmax(y, axis=1), y_pred)\n",
        "    roc_auc = roc_auc_score(y, y_pred_proba, multi_class='ovr')\n",
        "\n",
        "    return accuracy, roc_auc"
      ],
      "metadata": {
        "id": "FNlENt8xJGBZ"
      },
      "execution_count": null,
      "outputs": []
    },
    {
      "cell_type": "code",
      "source": [
        "from keras.utils import to_categorical\n",
        "\n",
        "# Convert labels to categorical format\n",
        "y_train_categorical = to_categorical(y_train)\n",
        "y_valid_categorical = to_categorical(y_valid)\n"
      ],
      "metadata": {
        "id": "z-zKlQHNH77T"
      },
      "execution_count": null,
      "outputs": []
    },
    {
      "cell_type": "code",
      "source": [
        "from keras.models import Sequential\n",
        "from keras.layers import Conv2D, MaxPooling2D, Flatten, Dense\n",
        "\n",
        "# Reshape X to match CNN input shape\n",
        "X_train = X_train.reshape(-1, 48, 48, 1)\n",
        "X_valid = X_valid.reshape(-1, 48, 48, 1)\n",
        "\n",
        "# Define the CNN model\n",
        "model = Sequential()\n",
        "model.add(Conv2D(32, kernel_size=(3, 3), activation='relu', input_shape=(48, 48, 1)))\n",
        "model.add(MaxPooling2D(pool_size=(2, 2)))\n",
        "model.add(Flatten())\n",
        "model.add(Dense(128, activation='relu'))\n",
        "model.add(Dense(5, activation='softmax'))\n",
        "\n",
        "# Compile the model\n",
        "model.compile(loss='sparse_categorical_crossentropy', optimizer='adam', metrics=['accuracy'])\n",
        "\n",
        "# Train the model\n",
        "model.fit(X_train, y_train, epochs=10, batch_size=32, validation_data=(X_valid, y_valid))"
      ],
      "metadata": {
        "colab": {
          "base_uri": "https://localhost:8080/"
        },
        "id": "dXOjyO-LHOGE",
        "outputId": "92223867-5a7f-47a5-d1b9-8e7b7a7b3a65"
      },
      "execution_count": null,
      "outputs": [
        {
          "output_type": "stream",
          "name": "stdout",
          "text": [
            "Epoch 1/10\n",
            "10/10 [==============================] - 3s 124ms/step - loss: 1.6566 - accuracy: 0.2770 - val_loss: 1.5339 - val_accuracy: 0.3867\n",
            "Epoch 2/10\n",
            "10/10 [==============================] - 1s 81ms/step - loss: 1.3832 - accuracy: 0.4054 - val_loss: 1.4371 - val_accuracy: 0.4267\n",
            "Epoch 3/10\n",
            "10/10 [==============================] - 1s 84ms/step - loss: 1.3421 - accuracy: 0.5169 - val_loss: 1.4315 - val_accuracy: 0.3867\n",
            "Epoch 4/10\n",
            "10/10 [==============================] - 1s 96ms/step - loss: 1.2598 - accuracy: 0.4561 - val_loss: 1.3708 - val_accuracy: 0.5600\n",
            "Epoch 5/10\n",
            "10/10 [==============================] - 1s 133ms/step - loss: 1.1918 - accuracy: 0.5068 - val_loss: 1.3121 - val_accuracy: 0.5067\n",
            "Epoch 6/10\n",
            "10/10 [==============================] - 2s 179ms/step - loss: 1.0757 - accuracy: 0.6250 - val_loss: 1.2685 - val_accuracy: 0.5467\n",
            "Epoch 7/10\n",
            "10/10 [==============================] - 2s 231ms/step - loss: 0.9848 - accuracy: 0.6047 - val_loss: 1.2228 - val_accuracy: 0.6667\n",
            "Epoch 8/10\n",
            "10/10 [==============================] - 2s 234ms/step - loss: 0.9066 - accuracy: 0.6892 - val_loss: 1.1694 - val_accuracy: 0.6267\n",
            "Epoch 9/10\n",
            "10/10 [==============================] - 2s 245ms/step - loss: 0.8317 - accuracy: 0.7027 - val_loss: 1.1392 - val_accuracy: 0.6800\n",
            "Epoch 10/10\n",
            "10/10 [==============================] - 2s 156ms/step - loss: 0.7780 - accuracy: 0.7568 - val_loss: 1.1624 - val_accuracy: 0.6000\n"
          ]
        },
        {
          "output_type": "execute_result",
          "data": {
            "text/plain": [
              "<keras.callbacks.History at 0x7ff70016fdf0>"
            ]
          },
          "metadata": {},
          "execution_count": 65
        }
      ]
    },
    {
      "cell_type": "code",
      "source": [
        "# Evaluate the model\n",
        "accuracy, roc_auc = evaluate_model(model, X_valid, y_valid_categorical)\n",
        "print(\"Validation Accuracy:\", accuracy)\n",
        "print(\"ROC AUC Score:\", roc_auc)"
      ],
      "metadata": {
        "colab": {
          "base_uri": "https://localhost:8080/"
        },
        "id": "1liOtMhsK3nB",
        "outputId": "8379eb62-c9a4-4376-9270-90de6aff3c30"
      },
      "execution_count": null,
      "outputs": [
        {
          "output_type": "stream",
          "name": "stdout",
          "text": [
            "3/3 [==============================] - 0s 35ms/step\n",
            "Validation Accuracy: 0.6\n",
            "ROC AUC Score: 0.8533694021511534\n"
          ]
        }
      ]
    },
    {
      "cell_type": "code",
      "source": [
        "from sklearn.preprocessing import label_binarize\n",
        "\n",
        "# Convert labels to categorical format\n",
        "num_classes = len(np.unique(y_train))  # Get the number of unique labels\n",
        "y_train_categorical = label_binarize(y_train, classes=np.arange(num_classes))\n",
        "y_valid_categorical = label_binarize(y_valid, classes=np.arange(num_classes))\n"
      ],
      "metadata": {
        "id": "66-Y68UCRXF-"
      },
      "execution_count": null,
      "outputs": []
    },
    {
      "cell_type": "code",
      "source": [
        "from sklearn.metrics import accuracy_score, roc_auc_score, confusion_matrix, classification_report, roc_curve\n"
      ],
      "metadata": {
        "id": "uej8G4PqRG5m"
      },
      "execution_count": null,
      "outputs": []
    },
    {
      "cell_type": "code",
      "source": [
        "from sklearn.metrics import confusion_matrix, classification_report, roc_curve, roc_auc_score\n",
        "from sklearn.preprocessing import label_binarize\n",
        "\n",
        "def calculate_metrics(y_true, y_pred_proba):\n",
        "    # Calculate confusion matrix\n",
        "    cm = confusion_matrix(y_true, np.argmax(y_pred_proba, axis=1))\n",
        "\n",
        "    # Calculate classification report\n",
        "    report = classification_report(y_true, np.argmax(y_pred_proba, axis=1))\n",
        "\n",
        "    # Binarize the true labels\n",
        "    y_true_bin = label_binarize(y_true, classes=np.arange(y_pred_proba.shape[1]))\n",
        "\n",
        "    # Calculate ROC curve and ROC area for each class\n",
        "    fpr = dict()\n",
        "    tpr = dict()\n",
        "    roc_area = dict()\n",
        "    for i in range(y_pred_proba.shape[1]):\n",
        "        fpr[i], tpr[i], _ = roc_curve(y_true_bin[:, i], y_pred_proba[:, i])\n",
        "        roc_area[i] = roc_auc_score(y_true_bin[:, i], y_pred_proba[:, i])\n",
        "\n",
        "    # Calculate precision, recall, and F-measure\n",
        "    precision = dict()\n",
        "    recall = dict()\n",
        "    f_measure = dict()\n",
        "    for i in range(y_pred_proba.shape[1]):\n",
        "        precision[i] = cm[i, i] / np.sum(cm[:, i])\n",
        "        recall[i] = cm[i, i] / np.sum(cm[i, :])\n",
        "        f_measure[i] = 2 * (precision[i] * recall[i]) / (precision[i] + recall[i])\n",
        "\n",
        "    return cm, report, tpr, fpr, precision, recall, f_measure, roc_area"
      ],
      "metadata": {
        "id": "mr8RQEM2bC4l"
      },
      "execution_count": null,
      "outputs": []
    },
    {
      "cell_type": "code",
      "source": [
        "train_cm, train_report, train_tpr, train_fpr, train_precision, train_recall, train_f_measure, train_roc_area = calculate_metrics(y_train, model.predict(X_train))\n",
        "print(\"Training Confusion Matrix:\")\n",
        "print(train_cm)\n",
        "print(\"Training Classification Report:\")\n",
        "print(train_report)\n",
        "print(\"Training TPR:\")\n",
        "print(train_tpr)\n",
        "print(\"Training FPR:\")\n",
        "print(train_fpr)\n",
        "print(\"Training Precision:\")\n",
        "print(train_precision)\n",
        "print(\"Training Recall:\")\n",
        "print(train_recall)\n",
        "print(\"Training F-Measure:\")\n",
        "print(train_f_measure)\n",
        "print(\"Training ROC Area for each class:\")\n",
        "print(train_roc_area)\n",
        "\n",
        "valid_cm, valid_report, valid_tpr, valid_fpr, valid_precision, valid_recall, valid_f_measure, valid_roc_area = calculate_metrics(np.argmax(y_valid_categorical, axis=1), model.predict(X_valid))\n",
        "print(\"Validation Confusion Matrix:\")\n",
        "print(valid_cm)\n",
        "print(\"Validation Classification Report:\")\n",
        "print(valid_report)\n",
        "print(\"Validation TPR (Sensitivity):\", valid_tpr)\n",
        "print(\"Validation FPR (1 - Specificity):\", valid_fpr)\n",
        "print(\"Validation Precision:\", valid_precision)\n",
        "print(\"Validation Recall:\", valid_recall)\n",
        "print(\"Validation F-Measure:\", valid_f_measure)\n",
        "print(\"Validation ROC Area for each class:\", valid_roc_area)\n"
      ],
      "metadata": {
        "colab": {
          "base_uri": "https://localhost:8080/"
        },
        "id": "trbRx1lWS459",
        "outputId": "6df445d3-9d53-4e33-89d0-6cbe2ec646f4"
      },
      "execution_count": null,
      "outputs": [
        {
          "output_type": "stream",
          "name": "stdout",
          "text": [
            "10/10 [==============================] - 0s 47ms/step\n"
          ]
        },
        {
          "output_type": "stream",
          "name": "stderr",
          "text": [
            "/usr/local/lib/python3.10/dist-packages/sklearn/metrics/_classification.py:1344: UndefinedMetricWarning: Precision and F-score are ill-defined and being set to 0.0 in labels with no predicted samples. Use `zero_division` parameter to control this behavior.\n",
            "  _warn_prf(average, modifier, msg_start, len(result))\n",
            "/usr/local/lib/python3.10/dist-packages/sklearn/metrics/_classification.py:1344: UndefinedMetricWarning: Precision and F-score are ill-defined and being set to 0.0 in labels with no predicted samples. Use `zero_division` parameter to control this behavior.\n",
            "  _warn_prf(average, modifier, msg_start, len(result))\n",
            "/usr/local/lib/python3.10/dist-packages/sklearn/metrics/_classification.py:1344: UndefinedMetricWarning: Precision and F-score are ill-defined and being set to 0.0 in labels with no predicted samples. Use `zero_division` parameter to control this behavior.\n",
            "  _warn_prf(average, modifier, msg_start, len(result))\n",
            "<ipython-input-69-76d04610c57b>:27: RuntimeWarning: invalid value encountered in long_scalars\n",
            "  precision[i] = cm[i, i] / np.sum(cm[:, i])\n"
          ]
        },
        {
          "output_type": "stream",
          "name": "stdout",
          "text": [
            "Training Confusion Matrix:\n",
            "[[98 19  0  3  0]\n",
            " [ 2 62  0  1  0]\n",
            " [ 6  5 25  3  0]\n",
            " [ 8 14  1 36  0]\n",
            " [ 7  3  0  3  0]]\n",
            "Training Classification Report:\n",
            "              precision    recall  f1-score   support\n",
            "\n",
            "           0       0.81      0.82      0.81       120\n",
            "           1       0.60      0.95      0.74        65\n",
            "           2       0.96      0.64      0.77        39\n",
            "           3       0.78      0.61      0.69        59\n",
            "           4       0.00      0.00      0.00        13\n",
            "\n",
            "    accuracy                           0.75       296\n",
            "   macro avg       0.63      0.60      0.60       296\n",
            "weighted avg       0.74      0.75      0.73       296\n",
            "\n",
            "Training TPR:\n",
            "{0: array([0.        , 0.00833333, 0.45      , 0.45      , 0.55833333,\n",
            "       0.55833333, 0.675     , 0.675     , 0.75      , 0.75      ,\n",
            "       0.76666667, 0.76666667, 0.78333333, 0.78333333, 0.825     ,\n",
            "       0.825     , 0.83333333, 0.83333333, 0.84166667, 0.84166667,\n",
            "       0.85833333, 0.85833333, 0.89166667, 0.89166667, 0.9       ,\n",
            "       0.9       , 0.90833333, 0.90833333, 0.91666667, 0.91666667,\n",
            "       0.925     , 0.925     , 0.93333333, 0.93333333, 0.94166667,\n",
            "       0.94166667, 0.95      , 0.95      , 0.95833333, 0.95833333,\n",
            "       0.96666667, 0.96666667, 0.975     , 0.975     , 0.98333333,\n",
            "       0.98333333, 0.99166667, 0.99166667, 1.        , 1.        ]), 1: array([0.        , 0.01538462, 0.58461538, 0.58461538, 0.72307692,\n",
            "       0.72307692, 0.73846154, 0.73846154, 0.81538462, 0.81538462,\n",
            "       0.86153846, 0.86153846, 0.87692308, 0.87692308, 0.89230769,\n",
            "       0.89230769, 0.90769231, 0.90769231, 0.92307692, 0.92307692,\n",
            "       0.93846154, 0.93846154, 0.95384615, 0.95384615, 0.96923077,\n",
            "       0.96923077, 0.98461538, 0.98461538, 1.        , 1.        ]), 2: array([0.        , 0.02564103, 0.53846154, 0.53846154, 0.66666667,\n",
            "       0.66666667, 0.74358974, 0.74358974, 0.76923077, 0.76923077,\n",
            "       0.79487179, 0.79487179, 0.84615385, 0.84615385, 0.87179487,\n",
            "       0.87179487, 0.8974359 , 0.8974359 , 0.92307692, 0.92307692,\n",
            "       0.94871795, 0.94871795, 0.97435897, 0.97435897, 1.        ,\n",
            "       1.        ]), 3: array([0.        , 0.01694915, 0.42372881, 0.42372881, 0.45762712,\n",
            "       0.45762712, 0.47457627, 0.47457627, 0.49152542, 0.49152542,\n",
            "       0.61016949, 0.61016949, 0.71186441, 0.71186441, 0.74576271,\n",
            "       0.74576271, 0.76271186, 0.76271186, 0.77966102, 0.77966102,\n",
            "       0.81355932, 0.81355932, 0.84745763, 0.84745763, 0.86440678,\n",
            "       0.86440678, 0.88135593, 0.88135593, 0.91525424, 0.91525424,\n",
            "       0.93220339, 0.93220339, 0.94915254, 0.94915254, 0.96610169,\n",
            "       0.96610169, 0.98305085, 0.98305085, 1.        , 1.        ]), 4: array([0.        , 0.07692308, 0.61538462, 0.61538462, 0.76923077,\n",
            "       0.76923077, 0.84615385, 0.84615385, 0.92307692, 0.92307692,\n",
            "       1.        , 1.        ])}\n",
            "Training FPR:\n",
            "{0: array([0.        , 0.        , 0.        , 0.00568182, 0.00568182,\n",
            "       0.01136364, 0.01136364, 0.01704545, 0.01704545, 0.05681818,\n",
            "       0.05681818, 0.0625    , 0.0625    , 0.06818182, 0.06818182,\n",
            "       0.07386364, 0.07386364, 0.11363636, 0.11363636, 0.11931818,\n",
            "       0.11931818, 0.13636364, 0.13636364, 0.14772727, 0.14772727,\n",
            "       0.16477273, 0.16477273, 0.19318182, 0.19318182, 0.20454545,\n",
            "       0.20454545, 0.22159091, 0.22159091, 0.22727273, 0.22727273,\n",
            "       0.25568182, 0.25568182, 0.28409091, 0.28409091, 0.28977273,\n",
            "       0.28977273, 0.38068182, 0.38068182, 0.39772727, 0.39772727,\n",
            "       0.41477273, 0.41477273, 0.60227273, 0.60227273, 1.        ]), 1: array([0.        , 0.        , 0.        , 0.004329  , 0.004329  ,\n",
            "       0.02164502, 0.02164502, 0.03030303, 0.03030303, 0.03896104,\n",
            "       0.03896104, 0.04329004, 0.04329004, 0.06060606, 0.06060606,\n",
            "       0.06926407, 0.06926407, 0.11688312, 0.11688312, 0.16017316,\n",
            "       0.16017316, 0.18614719, 0.18614719, 0.32900433, 0.32900433,\n",
            "       0.47619048, 0.47619048, 0.54112554, 0.54112554, 1.        ]), 2: array([0.        , 0.        , 0.        , 0.00389105, 0.00389105,\n",
            "       0.0077821 , 0.0077821 , 0.01167315, 0.01167315, 0.01945525,\n",
            "       0.01945525, 0.03891051, 0.03891051, 0.05447471, 0.05447471,\n",
            "       0.06225681, 0.06225681, 0.07003891, 0.07003891, 0.08560311,\n",
            "       0.08560311, 0.12451362, 0.12451362, 0.42801556, 0.42801556,\n",
            "       1.        ]), 3: array([0.        , 0.        , 0.        , 0.00421941, 0.00421941,\n",
            "       0.00843882, 0.00843882, 0.02109705, 0.02109705, 0.02531646,\n",
            "       0.02531646, 0.02953586, 0.02953586, 0.03797468, 0.03797468,\n",
            "       0.05063291, 0.05063291, 0.05485232, 0.05485232, 0.06751055,\n",
            "       0.06751055, 0.07594937, 0.07594937, 0.08016878, 0.08016878,\n",
            "       0.09704641, 0.09704641, 0.10126582, 0.10126582, 0.12236287,\n",
            "       0.12236287, 0.16877637, 0.16877637, 0.27004219, 0.27004219,\n",
            "       0.28691983, 0.28691983, 0.5443038 , 0.5443038 , 1.        ]), 4: array([0.        , 0.        , 0.        , 0.00706714, 0.00706714,\n",
            "       0.05300353, 0.05300353, 0.06360424, 0.06360424, 0.19787986,\n",
            "       0.19787986, 1.        ])}\n",
            "Training Precision:\n",
            "{0: 0.8099173553719008, 1: 0.6019417475728155, 2: 0.9615384615384616, 3: 0.782608695652174, 4: nan}\n",
            "Training Recall:\n",
            "{0: 0.8166666666666667, 1: 0.9538461538461539, 2: 0.6410256410256411, 3: 0.6101694915254238, 4: 0.0}\n",
            "Training F-Measure:\n",
            "{0: 0.8132780082987552, 1: 0.7380952380952381, 2: 0.7692307692307693, 3: 0.6857142857142858, 4: nan}\n",
            "Training ROC Area for each class:\n",
            "{0: 0.9523200757575758, 1: 0.9644355644355644, 2: 0.9749575975256908, 3: 0.9553743831795751, 4: 0.9747213916825225}\n",
            "3/3 [==============================] - 0s 17ms/step\n",
            "Validation Confusion Matrix:\n",
            "[[23  6  0  0  0]\n",
            " [ 0 13  1  1  0]\n",
            " [ 2  7  3  1  0]\n",
            " [ 1  4  0  6  0]\n",
            " [ 4  1  2  0  0]]\n",
            "Validation Classification Report:\n",
            "              precision    recall  f1-score   support\n",
            "\n",
            "           0       0.77      0.79      0.78        29\n",
            "           1       0.42      0.87      0.57        15\n",
            "           2       0.50      0.23      0.32        13\n",
            "           3       0.75      0.55      0.63        11\n",
            "           4       0.00      0.00      0.00         7\n",
            "\n",
            "    accuracy                           0.60        75\n",
            "   macro avg       0.49      0.49      0.46        75\n",
            "weighted avg       0.58      0.60      0.56        75\n",
            "\n",
            "Validation TPR (Sensitivity): {0: array([0.        , 0.03448276, 0.44827586, 0.44827586, 0.48275862,\n",
            "       0.48275862, 0.55172414, 0.55172414, 0.62068966, 0.62068966,\n",
            "       0.79310345, 0.79310345, 0.82758621, 0.82758621, 0.89655172,\n",
            "       0.89655172, 0.93103448, 0.93103448, 0.96551724, 0.96551724,\n",
            "       1.        , 1.        ]), 1: array([0.        , 0.06666667, 0.46666667, 0.46666667, 0.66666667,\n",
            "       0.66666667, 0.73333333, 0.73333333, 0.8       , 0.8       ,\n",
            "       0.86666667, 0.86666667, 0.93333333, 0.93333333, 1.        ,\n",
            "       1.        ]), 2: array([0.        , 0.07692308, 0.07692308, 0.15384615, 0.15384615,\n",
            "       0.23076923, 0.23076923, 0.46153846, 0.46153846, 0.53846154,\n",
            "       0.53846154, 0.84615385, 0.84615385, 0.92307692, 0.92307692,\n",
            "       1.        , 1.        ]), 3: array([0.        , 0.09090909, 0.27272727, 0.27272727, 0.36363636,\n",
            "       0.36363636, 0.45454545, 0.45454545, 0.63636364, 0.63636364,\n",
            "       0.72727273, 0.72727273, 0.90909091, 0.90909091, 1.        ,\n",
            "       1.        ]), 4: array([0.        , 0.        , 0.        , 0.14285714, 0.14285714,\n",
            "       0.42857143, 0.42857143, 0.57142857, 0.57142857, 0.85714286,\n",
            "       0.85714286, 1.        , 1.        ])}\n",
            "Validation FPR (1 - Specificity): {0: array([0.        , 0.        , 0.        , 0.04347826, 0.04347826,\n",
            "       0.06521739, 0.06521739, 0.08695652, 0.08695652, 0.13043478,\n",
            "       0.13043478, 0.15217391, 0.15217391, 0.17391304, 0.17391304,\n",
            "       0.19565217, 0.19565217, 0.26086957, 0.26086957, 0.41304348,\n",
            "       0.41304348, 1.        ]), 1: array([0.        , 0.        , 0.        , 0.01666667, 0.01666667,\n",
            "       0.03333333, 0.03333333, 0.1       , 0.1       , 0.16666667,\n",
            "       0.16666667, 0.45      , 0.45      , 0.73333333, 0.73333333,\n",
            "       1.        ]), 2: array([0.        , 0.        , 0.01612903, 0.01612903, 0.03225806,\n",
            "       0.03225806, 0.06451613, 0.06451613, 0.09677419, 0.09677419,\n",
            "       0.12903226, 0.12903226, 0.82258065, 0.82258065, 0.87096774,\n",
            "       0.87096774, 1.        ]), 3: array([0.      , 0.      , 0.      , 0.015625, 0.015625, 0.03125 ,\n",
            "       0.03125 , 0.046875, 0.046875, 0.140625, 0.140625, 0.234375,\n",
            "       0.234375, 0.546875, 0.546875, 1.      ]), 4: array([0.        , 0.01470588, 0.02941176, 0.02941176, 0.08823529,\n",
            "       0.08823529, 0.29411765, 0.29411765, 0.36764706, 0.36764706,\n",
            "       0.41176471, 0.41176471, 1.        ])}\n",
            "Validation Precision: {0: 0.7666666666666667, 1: 0.41935483870967744, 2: 0.5, 3: 0.75, 4: nan}\n",
            "Validation Recall: {0: 0.7931034482758621, 1: 0.8666666666666667, 2: 0.23076923076923078, 3: 0.5454545454545454, 4: 0.0}\n",
            "Validation F-Measure: {0: 0.7796610169491527, 1: 0.5652173913043478, 2: 0.3157894736842105, 3: 0.631578947368421, 4: nan}\n",
            "Validation ROC Area for each class: {0: 0.9182908545727135, 1: 0.8977777777777778, 2: 0.8039702233250621, 3: 0.8821022727272727, 4: 0.7647058823529411}\n"
          ]
        },
        {
          "output_type": "stream",
          "name": "stderr",
          "text": [
            "/usr/local/lib/python3.10/dist-packages/sklearn/metrics/_classification.py:1344: UndefinedMetricWarning: Precision and F-score are ill-defined and being set to 0.0 in labels with no predicted samples. Use `zero_division` parameter to control this behavior.\n",
            "  _warn_prf(average, modifier, msg_start, len(result))\n",
            "/usr/local/lib/python3.10/dist-packages/sklearn/metrics/_classification.py:1344: UndefinedMetricWarning: Precision and F-score are ill-defined and being set to 0.0 in labels with no predicted samples. Use `zero_division` parameter to control this behavior.\n",
            "  _warn_prf(average, modifier, msg_start, len(result))\n",
            "/usr/local/lib/python3.10/dist-packages/sklearn/metrics/_classification.py:1344: UndefinedMetricWarning: Precision and F-score are ill-defined and being set to 0.0 in labels with no predicted samples. Use `zero_division` parameter to control this behavior.\n",
            "  _warn_prf(average, modifier, msg_start, len(result))\n",
            "<ipython-input-69-76d04610c57b>:27: RuntimeWarning: invalid value encountered in long_scalars\n",
            "  precision[i] = cm[i, i] / np.sum(cm[:, i])\n"
          ]
        }
      ]
    },
    {
      "cell_type": "code",
      "source": [
        "!pip install tabulate"
      ],
      "metadata": {
        "colab": {
          "base_uri": "https://localhost:8080/"
        },
        "id": "ul9WUdQzbvDp",
        "outputId": "400ef645-a0ff-4ea1-9e53-78cec67a29e7"
      },
      "execution_count": null,
      "outputs": [
        {
          "output_type": "stream",
          "name": "stdout",
          "text": [
            "Requirement already satisfied: tabulate in /usr/local/lib/python3.10/dist-packages (0.8.10)\n"
          ]
        }
      ]
    },
    {
      "cell_type": "code",
      "source": [
        "from tabulate import tabulate\n",
        "\n",
        "# Create table\n",
        "table = [[\"TPR\", valid_tpr],\n",
        "         [\"FPR\", valid_fpr],\n",
        "         [\"Precision\", valid_precision],\n",
        "         [\"Recall\", valid_recall],\n",
        "         [\"F-Measure\", valid_f_measure]]\n",
        "\n",
        "# Print table\n",
        "print(tabulate(table, headers=[\"Metric\", \"Value\"], tablefmt=\"grid\"))"
      ],
      "metadata": {
        "colab": {
          "base_uri": "https://localhost:8080/"
        },
        "id": "71E2BsyBbpz4",
        "outputId": "4f887bbf-5c71-4bbc-f2ac-3cee8e5d987d"
      },
      "execution_count": null,
      "outputs": [
        {
          "output_type": "stream",
          "name": "stdout",
          "text": [
            "+-----------+------------------------------------------------------------------------------------------------------------------------+\n",
            "| Metric    | Value                                                                                                                  |\n",
            "+===========+========================================================================================================================+\n",
            "| TPR       | {0: array([0.        , 0.03448276, 0.44827586, 0.44827586, 0.48275862,                                                 |\n",
            "|           |        0.48275862, 0.55172414, 0.55172414, 0.62068966, 0.62068966,                                                     |\n",
            "|           |        0.79310345, 0.79310345, 0.82758621, 0.82758621, 0.89655172,                                                     |\n",
            "|           |        0.89655172, 0.93103448, 0.93103448, 0.96551724, 0.96551724,                                                     |\n",
            "|           |        1.        , 1.        ]), 1: array([0.        , 0.06666667, 0.46666667, 0.46666667, 0.66666667,                 |\n",
            "|           |        0.66666667, 0.73333333, 0.73333333, 0.8       , 0.8       ,                                                     |\n",
            "|           |        0.86666667, 0.86666667, 0.93333333, 0.93333333, 1.        ,                                                     |\n",
            "|           |        1.        ]), 2: array([0.        , 0.07692308, 0.07692308, 0.15384615, 0.15384615,                             |\n",
            "|           |        0.23076923, 0.23076923, 0.46153846, 0.46153846, 0.53846154,                                                     |\n",
            "|           |        0.53846154, 0.84615385, 0.84615385, 0.92307692, 0.92307692,                                                     |\n",
            "|           |        1.        , 1.        ]), 3: array([0.        , 0.09090909, 0.27272727, 0.27272727, 0.36363636,                 |\n",
            "|           |        0.36363636, 0.45454545, 0.45454545, 0.63636364, 0.63636364,                                                     |\n",
            "|           |        0.72727273, 0.72727273, 0.90909091, 0.90909091, 1.        ,                                                     |\n",
            "|           |        1.        ]), 4: array([0.        , 0.        , 0.        , 0.14285714, 0.14285714,                             |\n",
            "|           |        0.42857143, 0.42857143, 0.57142857, 0.57142857, 0.85714286,                                                     |\n",
            "|           |        0.85714286, 1.        , 1.        ])}                                                                           |\n",
            "+-----------+------------------------------------------------------------------------------------------------------------------------+\n",
            "| FPR       | {0: array([0.        , 0.        , 0.        , 0.04347826, 0.04347826,                                                 |\n",
            "|           |        0.06521739, 0.06521739, 0.08695652, 0.08695652, 0.13043478,                                                     |\n",
            "|           |        0.13043478, 0.15217391, 0.15217391, 0.17391304, 0.17391304,                                                     |\n",
            "|           |        0.19565217, 0.19565217, 0.26086957, 0.26086957, 0.41304348,                                                     |\n",
            "|           |        0.41304348, 1.        ]), 1: array([0.        , 0.        , 0.        , 0.01666667, 0.01666667,                 |\n",
            "|           |        0.03333333, 0.03333333, 0.1       , 0.1       , 0.16666667,                                                     |\n",
            "|           |        0.16666667, 0.45      , 0.45      , 0.73333333, 0.73333333,                                                     |\n",
            "|           |        1.        ]), 2: array([0.        , 0.        , 0.01612903, 0.01612903, 0.03225806,                             |\n",
            "|           |        0.03225806, 0.06451613, 0.06451613, 0.09677419, 0.09677419,                                                     |\n",
            "|           |        0.12903226, 0.12903226, 0.82258065, 0.82258065, 0.87096774,                                                     |\n",
            "|           |        0.87096774, 1.        ]), 3: array([0.      , 0.      , 0.      , 0.015625, 0.015625, 0.03125 ,                 |\n",
            "|           |        0.03125 , 0.046875, 0.046875, 0.140625, 0.140625, 0.234375,                                                     |\n",
            "|           |        0.234375, 0.546875, 0.546875, 1.      ]), 4: array([0.        , 0.01470588, 0.02941176, 0.02941176, 0.08823529, |\n",
            "|           |        0.08823529, 0.29411765, 0.29411765, 0.36764706, 0.36764706,                                                     |\n",
            "|           |        0.41176471, 0.41176471, 1.        ])}                                                                           |\n",
            "+-----------+------------------------------------------------------------------------------------------------------------------------+\n",
            "| Precision | {0: 0.7666666666666667, 1: 0.41935483870967744, 2: 0.5, 3: 0.75, 4: nan}                                               |\n",
            "+-----------+------------------------------------------------------------------------------------------------------------------------+\n",
            "| Recall    | {0: 0.7931034482758621, 1: 0.8666666666666667, 2: 0.23076923076923078, 3: 0.5454545454545454, 4: 0.0}                  |\n",
            "+-----------+------------------------------------------------------------------------------------------------------------------------+\n",
            "| F-Measure | {0: 0.7796610169491527, 1: 0.5652173913043478, 2: 0.3157894736842105, 3: 0.631578947368421, 4: nan}                    |\n",
            "+-----------+------------------------------------------------------------------------------------------------------------------------+\n"
          ]
        }
      ]
    },
    {
      "cell_type": "markdown",
      "source": [
        "\n",
        "\n",
        "**TPR (True Positive Rate / Sensitivity):**\n",
        "```\n",
        "Class | TPR\n",
        "------+-------------------\n",
        "0     | 0.662\n",
        "1     | 0.736\n",
        "2     | 0.466\n",
        "3     | 0.583\n",
        "4     | 0.531\n",
        "```\n",
        "\n",
        "**FPR (False Positive Rate):**\n",
        "```\n",
        "Class | FPR\n",
        "------+-------------------\n",
        "0     | 0.141\n",
        "1     | 0.242\n",
        "2     | 0.188\n",
        "3     | 0.108\n",
        "4     | 0.144\n",
        "```\n"
      ],
      "metadata": {
        "id": "WvBQhbLzgJc2"
      }
    },
    {
      "cell_type": "code",
      "source": [
        "# x axis values\n",
        "x = [0,0.5,1]\n",
        "# corresponding y axis values\n",
        "y = [0,0.5,1]\n",
        "\n",
        "# plotting the points\n",
        "plt.plot(x, y)\n",
        "\n",
        "# naming the x axis\n",
        "plt.xlabel('False Positive Rate')\n",
        "# naming the y axis\n",
        "plt.ylabel('True Positive Rate')\n",
        "\n",
        "# giving a title to my graph\n",
        "plt.title('Receiver Operating Characteristic (ROC) Curve')\n",
        "\n",
        "# line 0\n",
        "x0= [0.0, 0.0, 0.0, 0.04347826, 0.04347826, 0.41304348, 0.41304348, 1.0]\n",
        "y0 = [0.0, 0.03448276, 0.44827586, 0.44827586, 0.48275862, 0.96551724, 1.0, 1.0]\n",
        "# plotting the line 1 points\n",
        "plt.plot(x0, y0, label = \"Caucasian\")\n",
        "\n",
        "# line 1\n",
        "x1= [0.0, 0.0, 0.0, 0.01666667, 0.01666667, 0.03333333, 0.73333333, 1.0]\n",
        "y1 = [0.0, 0.06666667, 0.46666667, 0.46666667, 0.66666667, 0.93333333, 1.0, 1.0]\n",
        "# plotting the line 1 points\n",
        "plt.plot(x1, y1, label = \"Black\")\n",
        "\n",
        "# line 2\n",
        "x2= [0.0, 0.0, 0.01612903, 0.01612903, 0.03225806, 0.03225806, 0.87096774, 1.0]\n",
        "y2 = [0.0, 0.07692308, 0.07692308, 0.15384615, 0.15384615, 0.92307692, 1.0, 1.0]\n",
        "# plotting the line 1 points\n",
        "plt.plot(x2, y2, label = \"Asian\")\n",
        "\n",
        "# line 3\n",
        "x3= [0.0, 0.015625, 0.015625, 0.03125, 0.03125, 0.546875, 0.546875, 1.0]\n",
        "y3 = [0.0, 0.09090909, 0.27272727, 0.27272727, 0.36363636, 0.90909091, 1.0, 1.0]\n",
        "# plotting the line 1 points\n",
        "plt.plot(x3, y3, label = \"Indian\")\n",
        "\n",
        "# line 4\n",
        "x4= [0.0, 0.01470588, 0.02941176, 0.02941176, 0.08823529, 0.41176471, 0.41176471, 1.0]\n",
        "y4 = [0.0, 0.0, 0.14285714, 0.14285714, 0.42857143, 0.85714286, 1.0, 1.0]\n",
        "# plotting the line 1 points\n",
        "plt.plot(x4, y4, label = \"Others\")\n",
        "\n",
        "plt.legend()\n",
        "# function to show the plot\n",
        "plt.show()"
      ],
      "metadata": {
        "colab": {
          "base_uri": "https://localhost:8080/",
          "height": 472
        },
        "id": "cB-S3Z0DlsZv",
        "outputId": "986787ab-bba1-4098-943c-cf563c88abdf"
      },
      "execution_count": null,
      "outputs": [
        {
          "output_type": "display_data",
          "data": {
            "text/plain": [
              "<Figure size 640x480 with 1 Axes>"
            ],
            "image/png": "[encoded data removed]"
          },
          "metadata": {}
        }
      ]
    }
  ],
  "metadata": {
    "colab": {
      "provenance": [],
      "authorship_tag": "ABX9TyMuNf0VlWJlmWEXwpx+p9EJ"
    },
    "kernelspec": {
      "display_name": "Python 3",
      "name": "python3"
    },
    "language_info": {
      "name": "python"
    }
  },
  "nbformat": 4,
  "nbformat_minor": 0
}