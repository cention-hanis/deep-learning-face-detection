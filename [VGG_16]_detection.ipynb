{
  "cells": [
    {
      "cell_type": "code",
      "execution_count": null,
      "metadata": {
        "id": "ZtKVzWltBW1O"
      },
      "outputs": [],
      "source": [
        "import pandas as pd\n",
        "import numpy as np\n",
        "from sklearn.model_selection import train_test_split\n",
        "from sklearn.metrics import accuracy_score, roc_auc_score\n",
        "from keras.utils import to_categorical\n",
        "from keras.applications.vgg16 import VGG16\n",
        "from keras.layers import Dense, GlobalAveragePooling2D\n",
        "from keras.models import Model"
      ]
    },
    {
      "cell_type": "code",
      "source": [
        "# Load the dataset\n",
        "df = pd.read_csv('utkFace1_int.csv')\n",
        "df"
      ],
      "metadata": {
        "colab": {
          "base_uri": "https://localhost:8080/",
          "height": 424
        },
        "id": "6j_fFmkDWhW3",
        "outputId": "f3924cb4-7d4a-4bf7-8060-1754b255e31a"
      },
      "execution_count": null,
      "outputs": [
        {
          "output_type": "execute_result",
          "data": {
            "text/plain": [
              "     age  ethnicity  gender                        img_name  \\\n",
              "0     35          1       0  20170116025838482.jpg.chip.jpg   \n",
              "1     18          0       1  20170109212647587.jpg.chip.jpg   \n",
              "2     44          1       0  20170113142045653.jpg.chip.jpg   \n",
              "3     21          2       1  20170109213056053.jpg.chip.jpg   \n",
              "4     29          1       1  20170117193933170.jpg.chip.jpg   \n",
              "..   ...        ...     ...                             ...   \n",
              "366   35          3       0  20170104214739069.jpg.chip.jpg   \n",
              "367   22          1       0  20170113133555880.jpg.chip.jpg   \n",
              "368   34          1       1  20170113001409411.jpg.chip.jpg   \n",
              "369   53          0       1  20170109012814840.jpg.chip.jpg   \n",
              "370   26          1       1  20170116153234172.jpg.chip.jpg   \n",
              "\n",
              "                                                pixels  \n",
              "0    '217 168 111 37 22 23 37 48 82 91 91 91 91 91 ...  \n",
              "1    '109 114 131 84 79 60 62 66 83 162 167 163 163...  \n",
              "2    '238 240 219 183 171 157 147 142 137 126 119 1...  \n",
              "3    '215 217 219 216 213 52 51 40 42 44 47 47 37 2...  \n",
              "4    '4 6 13 12 10 11 16 25 18 8 9 10 15 15 25 60 8...  \n",
              "..                                                 ...  \n",
              "366  '243 246 248 248 243 106 28 89 129 159 172 186...  \n",
              "367  '162 167 38 38 40 64 133 152 167 169 172 180 1...  \n",
              "368  '40 54 49 36 46 51 55 42 34 51 63 44 53 66 85 ...  \n",
              "369  '70 84 105 117 120 105 102 107 122 134 147 163...  \n",
              "370  '38 48 51 49 51 62 68 55 35 27 35 82 158 172 1...  \n",
              "\n",
              "[371 rows x 5 columns]"
            ],
            "text/html": [
              "\n",
              "  <div id=\"df-8adb219e-5a80-4b6f-9776-88ce87f064d2\">\n",
              "    <div class=\"colab-df-container\">\n",
              "      <div>\n",
              "<style scoped>\n",
              "    .dataframe tbody tr th:only-of-type {\n",
              "        vertical-align: middle;\n",
              "    }\n",
              "\n",
              "    .dataframe tbody tr th {\n",
              "        vertical-align: top;\n",
              "    }\n",
              "\n",
              "    .dataframe thead th {\n",
              "        text-align: right;\n",
              "    }\n",
              "</style>\n",
              "<table border=\"1\" class=\"dataframe\">\n",
              "  <thead>\n",
              "    <tr style=\"text-align: right;\">\n",
              "      <th></th>\n",
              "      <th>age</th>\n",
              "      <th>ethnicity</th>\n",
              "      <th>gender</th>\n",
              "      <th>img_name</th>\n",
              "      <th>pixels</th>\n",
              "    </tr>\n",
              "  </thead>\n",
              "  <tbody>\n",
              "    <tr>\n",
              "      <th>0</th>\n",
              "      <td>35</td>\n",
              "      <td>1</td>\n",
              "      <td>0</td>\n",
              "      <td>20170116025838482.jpg.chip.jpg</td>\n",
              "      <td>'217 168 111 37 22 23 37 48 82 91 91 91 91 91 ...</td>\n",
              "    </tr>\n",
              "    <tr>\n",
              "      <th>1</th>\n",
              "      <td>18</td>\n",
              "      <td>0</td>\n",
              "      <td>1</td>\n",
              "      <td>20170109212647587.jpg.chip.jpg</td>\n",
              "      <td>'109 114 131 84 79 60 62 66 83 162 167 163 163...</td>\n",
              "    </tr>\n",
              "    <tr>\n",
              "      <th>2</th>\n",
              "      <td>44</td>\n",
              "      <td>1</td>\n",
              "      <td>0</td>\n",
              "      <td>20170113142045653.jpg.chip.jpg</td>\n",
              "      <td>'238 240 219 183 171 157 147 142 137 126 119 1...</td>\n",
              "    </tr>\n",
              "    <tr>\n",
              "      <th>3</th>\n",
              "      <td>21</td>\n",
              "      <td>2</td>\n",
              "      <td>1</td>\n",
              "      <td>20170109213056053.jpg.chip.jpg</td>\n",
              "      <td>'215 217 219 216 213 52 51 40 42 44 47 47 37 2...</td>\n",
              "    </tr>\n",
              "    <tr>\n",
              "      <th>4</th>\n",
              "      <td>29</td>\n",
              "      <td>1</td>\n",
              "      <td>1</td>\n",
              "      <td>20170117193933170.jpg.chip.jpg</td>\n",
              "      <td>'4 6 13 12 10 11 16 25 18 8 9 10 15 15 25 60 8...</td>\n",
              "    </tr>\n",
              "    <tr>\n",
              "      <th>...</th>\n",
              "      <td>...</td>\n",
              "      <td>...</td>\n",
              "      <td>...</td>\n",
              "      <td>...</td>\n",
              "      <td>...</td>\n",
              "    </tr>\n",
              "    <tr>\n",
              "      <th>366</th>\n",
              "      <td>35</td>\n",
              "      <td>3</td>\n",
              "      <td>0</td>\n",
              "      <td>20170104214739069.jpg.chip.jpg</td>\n",
              "      <td>'243 246 248 248 243 106 28 89 129 159 172 186...</td>\n",
              "    </tr>\n",
              "    <tr>\n",
              "      <th>367</th>\n",
              "      <td>22</td>\n",
              "      <td>1</td>\n",
              "      <td>0</td>\n",
              "      <td>20170113133555880.jpg.chip.jpg</td>\n",
              "      <td>'162 167 38 38 40 64 133 152 167 169 172 180 1...</td>\n",
              "    </tr>\n",
              "    <tr>\n",
              "      <th>368</th>\n",
              "      <td>34</td>\n",
              "      <td>1</td>\n",
              "      <td>1</td>\n",
              "      <td>20170113001409411.jpg.chip.jpg</td>\n",
              "      <td>'40 54 49 36 46 51 55 42 34 51 63 44 53 66 85 ...</td>\n",
              "    </tr>\n",
              "    <tr>\n",
              "      <th>369</th>\n",
              "      <td>53</td>\n",
              "      <td>0</td>\n",
              "      <td>1</td>\n",
              "      <td>20170109012814840.jpg.chip.jpg</td>\n",
              "      <td>'70 84 105 117 120 105 102 107 122 134 147 163...</td>\n",
              "    </tr>\n",
              "    <tr>\n",
              "      <th>370</th>\n",
              "      <td>26</td>\n",
              "      <td>1</td>\n",
              "      <td>1</td>\n",
              "      <td>20170116153234172.jpg.chip.jpg</td>\n",
              "      <td>'38 48 51 49 51 62 68 55 35 27 35 82 158 172 1...</td>\n",
              "    </tr>\n",
              "  </tbody>\n",
              "</table>\n",
              "<p>371 rows × 5 columns</p>\n",
              "</div>\n",
              "      <button class=\"colab-df-convert\" onclick=\"convertToInteractive('df-8adb219e-5a80-4b6f-9776-88ce87f064d2')\"\n",
              "              title=\"Convert this dataframe to an interactive table.\"\n",
              "              style=\"display:none;\">\n",
              "        \n",
              "  <svg xmlns=\"http://www.w3.org/2000/svg\" height=\"24px\"viewBox=\"0 0 24 24\"\n",
              "       width=\"24px\">\n",
              "    <path d=\"M0 0h24v24H0V0z\" fill=\"none\"/>\n",
              "    <path d=\"M18.56 5.44l.94 2.06.94-2.06 2.06-.94-2.06-.94-.94-2.06-.94 2.06-2.06.94zm-11 1L8.5 8.5l.94-2.06 2.06-.94-2.06-.94L8.5 2.5l-.94 2.06-2.06.94zm10 10l.94 2.06.94-2.06 2.06-.94-2.06-.94-.94-2.06-.94 2.06-2.06.94z\"/><path d=\"M17.41 7.96l-1.37-1.37c-.4-.4-.92-.59-1.43-.59-.52 0-1.04.2-1.43.59L10.3 9.45l-7.72 7.72c-.78.78-.78 2.05 0 2.83L4 21.41c.39.39.9.59 1.41.59.51 0 1.02-.2 1.41-.59l7.78-7.78 2.81-2.81c.8-.78.8-2.07 0-2.86zM5.41 20L4 18.59l7.72-7.72 1.47 1.35L5.41 20z\"/>\n",
              "  </svg>\n",
              "      </button>\n",
              "      \n",
              "  <style>\n",
              "    .colab-df-container {\n",
              "      display:flex;\n",
              "      flex-wrap:wrap;\n",
              "      gap: 12px;\n",
              "    }\n",
              "\n",
              "    .colab-df-convert {\n",
              "      background-color: #E8F0FE;\n",
              "      border: none;\n",
              "      border-radius: 50%;\n",
              "      cursor: pointer;\n",
              "      display: none;\n",
              "      fill: #1967D2;\n",
              "      height: 32px;\n",
              "      padding: 0 0 0 0;\n",
              "      width: 32px;\n",
              "    }\n",
              "\n",
              "    .colab-df-convert:hover {\n",
              "      background-color: #E2EBFA;\n",
              "      box-shadow: 0px 1px 2px rgba(60, 64, 67, 0.3), 0px 1px 3px 1px rgba(60, 64, 67, 0.15);\n",
              "      fill: #174EA6;\n",
              "    }\n",
              "\n",
              "    [theme=dark] .colab-df-convert {\n",
              "      background-color: #3B4455;\n",
              "      fill: #D2E3FC;\n",
              "    }\n",
              "\n",
              "    [theme=dark] .colab-df-convert:hover {\n",
              "      background-color: #434B5C;\n",
              "      box-shadow: 0px 1px 3px 1px rgba(0, 0, 0, 0.15);\n",
              "      filter: drop-shadow(0px 1px 2px rgba(0, 0, 0, 0.3));\n",
              "      fill: #FFFFFF;\n",
              "    }\n",
              "  </style>\n",
              "\n",
              "      <script>\n",
              "        const buttonEl =\n",
              "          document.querySelector('#df-8adb219e-5a80-4b6f-9776-88ce87f064d2 button.colab-df-convert');\n",
              "        buttonEl.style.display =\n",
              "          google.colab.kernel.accessAllowed ? 'block' : 'none';\n",
              "\n",
              "        async function convertToInteractive(key) {\n",
              "          const element = document.querySelector('#df-8adb219e-5a80-4b6f-9776-88ce87f064d2');\n",
              "          const dataTable =\n",
              "            await google.colab.kernel.invokeFunction('convertToInteractive',\n",
              "                                                     [key], {});\n",
              "          if (!dataTable) return;\n",
              "\n",
              "          const docLinkHtml = 'Like what you see? Visit the ' +\n",
              "            '<a target=\"_blank\" href=https://colab.research.google.com/notebooks/data_table.ipynb>data table notebook</a>'\n",
              "            + ' to learn more about interactive tables.';\n",
              "          element.innerHTML = '';\n",
              "          dataTable['output_type'] = 'display_data';\n",
              "          await google.colab.output.renderOutput(dataTable, element);\n",
              "          const docLink = document.createElement('div');\n",
              "          docLink.innerHTML = docLinkHtml;\n",
              "          element.appendChild(docLink);\n",
              "        }\n",
              "      </script>\n",
              "    </div>\n",
              "  </div>\n",
              "  "
            ]
          },
          "metadata": {},
          "execution_count": 23
        }
      ]
    },
    {
      "cell_type": "code",
      "source": [
        "# Convert pixels to numeric type\n",
        "X = []\n",
        "for pixels in df['pixels']:\n",
        "    try:\n",
        "        pixels_float = [float(pixel) for pixel in pixels]\n",
        "        X.append(pixels_float)\n",
        "    except ValueError:\n",
        "        X.append(np.nan)\n",
        "X = np.array(X)"
      ],
      "metadata": {
        "id": "0mxteOCEX3qo"
      },
      "execution_count": null,
      "outputs": []
    },
    {
      "cell_type": "code",
      "source": [
        "# Convert the target labels to integers\n",
        "y = y.astype(int)\n"
      ],
      "metadata": {
        "id": "NrZ6B0XMZKTy"
      },
      "execution_count": null,
      "outputs": []
    },
    {
      "cell_type": "code",
      "source": [
        "# Resize images to (48, 48)\n",
        "X_resized = []\n",
        "for image in X:\n",
        "    resized_image = cv2.resize(image, (48, 48))\n",
        "    X_resized.append(resized_image)\n",
        "\n",
        "# Convert the resized images to an array\n",
        "X = np.array(X_resized)\n",
        "\n",
        "# Reshape X to match the expected shape of the VGG16 model (48x48 grayscale)\n",
        "X = X.reshape(-1, 48, 48, 1)\n",
        "\n",
        "# Split the data into training and validation sets\n",
        "X_train, X_valid, y_train, y_valid = train_test_split(X, y, test_size=0.2, random_state=42)\n"
      ],
      "metadata": {
        "id": "g7xRYX6CYvtr"
      },
      "execution_count": null,
      "outputs": []
    },
    {
      "cell_type": "code",
      "source": [
        "# Convert labels to categorical format\n",
        "y_train_categorical = to_categorical(y_train)\n",
        "y_valid_categorical = to_categorical(y_valid)\n",
        "\n",
        "# Resize images to (224, 224) and convert to RGB format\n",
        "X_resized_train = []\n",
        "X_resized_valid = []"
      ],
      "metadata": {
        "id": "3ujEJeoHct58"
      },
      "execution_count": null,
      "outputs": []
    },
    {
      "cell_type": "code",
      "source": [
        "for image in X_train:\n",
        "    image_uint8 = (image * 255).astype(np.uint8)\n",
        "    resized_image = cv2.resize(image_uint8, (224, 224))\n",
        "    rgb_image = cv2.cvtColor(resized_image, cv2.COLOR_GRAY2RGB)\n",
        "    X_resized_train.append(rgb_image)\n",
        "\n",
        "for image in X_valid:\n",
        "    image_uint8 = (image * 255).astype(np.uint8)\n",
        "    resized_image = cv2.resize(image_uint8, (224, 224))\n",
        "    rgb_image = cv2.cvtColor(resized_image, cv2.COLOR_GRAY2RGB)\n",
        "    X_resized_valid.append(rgb_image)"
      ],
      "metadata": {
        "id": "sw9g9BxscyGq"
      },
      "execution_count": null,
      "outputs": []
    },
    {
      "cell_type": "code",
      "source": [
        "# Convert the resized images to arrays\n",
        "X_train_resized = np.array(X_resized_train)\n",
        "X_valid_resized = np.array(X_resized_valid)\n",
        "\n",
        "# Load pre-trained VGG16 model without the top layer\n",
        "base_model = VGG16(weights='imagenet', include_top=False, input_shape=(224, 224, 3))\n"
      ],
      "metadata": {
        "id": "qccjwFC_czzL"
      },
      "execution_count": null,
      "outputs": []
    },
    {
      "cell_type": "code",
      "source": [
        "# Add custom classification layers on top of the base model\n",
        "x = base_model.output\n",
        "x = GlobalAveragePooling2D()(x)\n",
        "x = Dense(128, activation='relu')(x)\n",
        "predictions = Dense(num_classes, activation='softmax')(x)"
      ],
      "metadata": {
        "id": "6b7qhaCGc4Sq"
      },
      "execution_count": null,
      "outputs": []
    },
    {
      "cell_type": "code",
      "source": [
        "# Create the final model\n",
        "model = Model(inputs=base_model.input, outputs=predictions)\n",
        "\n",
        "# Compile the model\n",
        "model.compile(optimizer='adam', loss='categorical_crossentropy', metrics=['accuracy'])\n",
        "\n",
        "# Train the model\n",
        "model.fit(X_train_resized, y_train_categorical, epochs=10, batch_size=32, validation_data=(X_valid_resized, y_valid_categorical))"
      ],
      "metadata": {
        "colab": {
          "base_uri": "https://localhost:8080/"
        },
        "id": "sl5v2Nntc9bQ",
        "outputId": "5ec55258-358c-4914-c534-b754655e8fb3"
      },
      "execution_count": null,
      "outputs": [
        {
          "output_type": "stream",
          "name": "stdout",
          "text": [
            "Epoch 1/10\n",
            "10/10 [==============================] - 683s 67s/step - loss: 1.9851 - accuracy: 0.3818 - val_loss: 1.5189 - val_accuracy: 0.3867\n",
            "Epoch 2/10\n",
            "10/10 [==============================] - 722s 72s/step - loss: 1.4600 - accuracy: 0.4054 - val_loss: 1.5611 - val_accuracy: 0.3867\n",
            "Epoch 3/10\n",
            "10/10 [==============================] - 704s 71s/step - loss: 1.4477 - accuracy: 0.4054 - val_loss: 1.5328 - val_accuracy: 0.3867\n",
            "Epoch 4/10\n",
            "10/10 [==============================] - 671s 67s/step - loss: 1.4330 - accuracy: 0.4054 - val_loss: 1.5175 - val_accuracy: 0.3867\n",
            "Epoch 5/10\n",
            "10/10 [==============================] - 664s 66s/step - loss: 1.4372 - accuracy: 0.4054 - val_loss: 1.5316 - val_accuracy: 0.3867\n",
            "Epoch 6/10\n",
            "10/10 [==============================] - 699s 70s/step - loss: 1.4297 - accuracy: 0.4054 - val_loss: 1.5469 - val_accuracy: 0.3867\n",
            "Epoch 7/10\n",
            "10/10 [==============================] - 655s 66s/step - loss: 1.4419 - accuracy: 0.4054 - val_loss: 1.5284 - val_accuracy: 0.3867\n",
            "Epoch 8/10\n",
            "10/10 [==============================] - 666s 67s/step - loss: 1.4333 - accuracy: 0.4054 - val_loss: 1.5256 - val_accuracy: 0.3867\n",
            "Epoch 9/10\n",
            "10/10 [==============================] - 702s 70s/step - loss: 1.4358 - accuracy: 0.4054 - val_loss: 1.5323 - val_accuracy: 0.3867\n",
            "Epoch 10/10\n",
            "10/10 [==============================] - 702s 71s/step - loss: 1.4270 - accuracy: 0.4054 - val_loss: 1.5284 - val_accuracy: 0.3867\n"
          ]
        },
        {
          "output_type": "execute_result",
          "data": {
            "text/plain": [
              "<keras.callbacks.History at 0x7f9929a621d0>"
            ]
          },
          "metadata": {},
          "execution_count": 57
        }
      ]
    },
    {
      "cell_type": "code",
      "source": [
        "# Evaluate the model on the validation set\n",
        "y_valid_pred_proba = model.predict(X_valid_resized)\n",
        "y_valid_pred = np.argmax(y_valid_pred_proba, axis=1)"
      ],
      "metadata": {
        "colab": {
          "base_uri": "https://localhost:8080/"
        },
        "id": "uG8vTSP1kzT9",
        "outputId": "a3b930a7-cbf1-4613-ba24-143f15c58be1"
      },
      "execution_count": null,
      "outputs": [
        {
          "output_type": "stream",
          "name": "stdout",
          "text": [
            "3/3 [==============================] - 41s 11s/step\n"
          ]
        }
      ]
    },
    {
      "cell_type": "code",
      "source": [
        "accuracy = accuracy_score(y_valid, y_valid_pred)\n",
        "roc_auc = roc_auc_score(y_valid_categorical, y_valid_pred_proba, multi_class='ovr')\n"
      ],
      "metadata": {
        "id": "5e67O8a3k1EU"
      },
      "execution_count": null,
      "outputs": []
    },
    {
      "cell_type": "code",
      "source": [
        "print(\"Validation Accuracy:\", accuracy)\n",
        "print(\"ROC AUC Score:\", roc_auc)"
      ],
      "metadata": {
        "colab": {
          "base_uri": "https://localhost:8080/"
        },
        "id": "HCnLnf2blApL",
        "outputId": "e7896b0f-072a-4101-d70c-e4bc5f2e6be1"
      },
      "execution_count": null,
      "outputs": [
        {
          "output_type": "stream",
          "name": "stdout",
          "text": [
            "Validation Accuracy: 0.38666666666666666\n",
            "ROC AUC Score: 0.5056943361541155\n"
          ]
        }
      ]
    },
    {
      "cell_type": "code",
      "source": [
        "# Compute ROC curve and ROC AUC for each class\n",
        "fpr = dict()\n",
        "tpr = dict()\n",
        "roc_auc = dict()\n",
        "\n",
        "for i in range(num_classes):\n",
        "    fpr[i], tpr[i], _ = roc_curve(y_valid_categorical[:, i], y_valid_pred_proba[:, i])\n",
        "    roc_auc[i] = roc_auc_score(y_valid_categorical[:, i], y_valid_pred_proba[:, i])\n",
        "\n",
        "from sklearn.metrics import confusion_matrix\n",
        "\n",
        "# Calculate confusion matrix\n",
        "cm = confusion_matrix(y_valid, y_valid_pred)\n",
        "\n",
        "# Extract TP, FP, TN, FN\n",
        "TP = cm[1, 1]\n",
        "FP = cm[0, 1]\n",
        "TN = cm[0, 0]\n",
        "FN = cm[1, 0]\n",
        "\n",
        "# Calculate TPR and FPR\n",
        "TPR = TP / (TP + FN)\n",
        "FPR = FP / (FP + TN)\n",
        "\n",
        "print(\"True Positive Rate (TPR):\", tpr)\n",
        "print(\"False Positive Rate (FPR):\", fpr)\n",
        "\n",
        "# Plot ROC curve for each class\n",
        "plt.figure(figsize=(10, 6))\n",
        "colors = ['blue', 'red', 'green', 'orange', 'purple']\n",
        "for i in range(num_classes):\n",
        "    plt.plot(fpr[i], tpr[i], color=colors[i], lw=2, label=f'Class {i}')\n",
        "plt.plot([0, 1], [0, 1], color='gray', lw=2, linestyle='--')\n",
        "plt.xlim([0.0, 1.0])\n",
        "plt.ylim([0.0, 1.05])\n",
        "plt.xlabel('False Positive Rate')\n",
        "plt.ylabel('True Positive Rate')\n",
        "plt.title('Receiver Operating Characteristic (ROC) Curve')\n",
        "plt.legend(loc=\"lower right\")\n",
        "plt.show()"
      ],
      "metadata": {
        "colab": {
          "base_uri": "https://localhost:8080/",
          "height": 619
        },
        "id": "WDjMiX0N7OQ9",
        "outputId": "a6f95209-9672-4a7e-9d31-4d14cb88d2fb"
      },
      "execution_count": null,
      "outputs": [
        {
          "output_type": "stream",
          "name": "stdout",
          "text": [
            "True Positive Rate (TPR): {0: array([0.        , 0.06896552, 1.        ]), 1: array([0.        , 0.06666667, 1.        ]), 2: array([0., 1.]), 3: array([0.        , 0.90909091, 1.        ]), 4: array([0., 1., 1.])}\n",
            "False Positive Rate (FPR): {0: array([0.        , 0.04347826, 1.        ]), 1: array([0.  , 0.05, 1.  ]), 2: array([0., 1.]), 3: array([0.      , 0.953125, 1.      ]), 4: array([0.        , 0.94117647, 1.        ])}\n"
          ]
        },
        {
          "output_type": "display_data",
          "data": {
            "text/plain": [
              "<Figure size 1000x600 with 1 Axes>"
            ],
            "image/png": "[encoded data removed]"
          },
          "metadata": {}
        }
      ]
    },
    {
      "cell_type": "code",
      "source": [
        "from sklearn.metrics import accuracy_score, roc_auc_score, roc_curve, precision_score, recall_score, f1_score"
      ],
      "metadata": {
        "id": "00C76w3H-OB_"
      },
      "execution_count": null,
      "outputs": []
    },
    {
      "cell_type": "code",
      "source": [
        "precision[i] = precision_score(y_valid, y_valid_pred, average=None, zero_division=1)[i]\n",
        "recall[i] = recall_score(y_valid, y_valid_pred, average=None, zero_division=1)[i]\n",
        "f_measure[i] = f1_score(y_valid, y_valid_pred, average=None, zero_division=1)[i]\n"
      ],
      "metadata": {
        "id": "9spNw205_Bib"
      },
      "execution_count": null,
      "outputs": []
    },
    {
      "cell_type": "code",
      "source": [
        "# Calculate accuracy on validation set\n",
        "y_valid_pred = np.argmax(y_valid_pred_proba, axis=1)\n",
        "accuracy = accuracy_score(y_valid, y_valid_pred)\n",
        "\n",
        "# Calculate precision, recall, and F-measure for each class\n",
        "precision = dict()\n",
        "recall = dict()\n",
        "f_measure = dict()\n",
        "for i in range(5):\n",
        "    precision[i] = precision_score(y_valid, y_valid_pred, average=None)[i]\n",
        "    recall[i] = recall_score(y_valid, y_valid_pred, average=None)[i]\n",
        "    f_measure[i] = f1_score(y_valid, y_valid_pred, average=None)[i]\n",
        "\n",
        "# Print evaluation metrics\n",
        "print(f\"Accuracy: {accuracy}\")\n",
        "for i in range(num_classes):\n",
        "    print(f\"Class {i}:\")\n",
        "    print(f\"  ROC AUC: {roc_auc[i]}\")\n",
        "    print(f\"  Precision: {precision[i]}\")\n",
        "    print(f\"  Recall: {recall[i]}\")\n",
        "    print(f\"  F-Measure: {f_measure[i]}\")\n"
      ],
      "metadata": {
        "colab": {
          "base_uri": "https://localhost:8080/"
        },
        "id": "E5_ODSsj9sJb",
        "outputId": "a1edafc4-6baa-4b84-dc13-c67b5862d606"
      },
      "execution_count": null,
      "outputs": [
        {
          "output_type": "stream",
          "name": "stdout",
          "text": [
            "Accuracy: 0.38666666666666666\n",
            "Class 0:\n",
            "  ROC AUC: 0.512743628185907\n",
            "  Precision: 0.38666666666666666\n",
            "  Recall: 1.0\n",
            "  F-Measure: 0.5576923076923077\n",
            "Class 1:\n",
            "  ROC AUC: 0.5083333333333333\n",
            "  Precision: 0.0\n",
            "  Recall: 0.0\n",
            "  F-Measure: 0.0\n",
            "Class 2:\n",
            "  ROC AUC: 0.5\n",
            "  Precision: 0.0\n",
            "  Recall: 0.0\n",
            "  F-Measure: 0.0\n",
            "Class 3:\n",
            "  ROC AUC: 0.47798295454545453\n",
            "  Precision: 0.0\n",
            "  Recall: 0.0\n",
            "  F-Measure: 0.0\n",
            "Class 4:\n",
            "  ROC AUC: 0.5294117647058824\n",
            "  Precision: 0.0\n",
            "  Recall: 0.0\n",
            "  F-Measure: 0.0\n"
          ]
        },
        {
          "output_type": "stream",
          "name": "stderr",
          "text": [
            "/usr/local/lib/python3.10/dist-packages/sklearn/metrics/_classification.py:1344: UndefinedMetricWarning: Precision is ill-defined and being set to 0.0 in labels with no predicted samples. Use `zero_division` parameter to control this behavior.\n",
            "  _warn_prf(average, modifier, msg_start, len(result))\n",
            "/usr/local/lib/python3.10/dist-packages/sklearn/metrics/_classification.py:1344: UndefinedMetricWarning: Precision is ill-defined and being set to 0.0 in labels with no predicted samples. Use `zero_division` parameter to control this behavior.\n",
            "  _warn_prf(average, modifier, msg_start, len(result))\n",
            "/usr/local/lib/python3.10/dist-packages/sklearn/metrics/_classification.py:1344: UndefinedMetricWarning: Precision is ill-defined and being set to 0.0 in labels with no predicted samples. Use `zero_division` parameter to control this behavior.\n",
            "  _warn_prf(average, modifier, msg_start, len(result))\n",
            "/usr/local/lib/python3.10/dist-packages/sklearn/metrics/_classification.py:1344: UndefinedMetricWarning: Precision is ill-defined and being set to 0.0 in labels with no predicted samples. Use `zero_division` parameter to control this behavior.\n",
            "  _warn_prf(average, modifier, msg_start, len(result))\n",
            "/usr/local/lib/python3.10/dist-packages/sklearn/metrics/_classification.py:1344: UndefinedMetricWarning: Precision is ill-defined and being set to 0.0 in labels with no predicted samples. Use `zero_division` parameter to control this behavior.\n",
            "  _warn_prf(average, modifier, msg_start, len(result))\n"
          ]
        }
      ]
    },
    {
      "cell_type": "code",
      "source": [
        "!pip install tabulate"
      ],
      "metadata": {
        "colab": {
          "base_uri": "https://localhost:8080/"
        },
        "id": "gb6lJlScBH5h",
        "outputId": "fddf085a-df6e-42e2-f2d0-e7da258114a3"
      },
      "execution_count": null,
      "outputs": [
        {
          "output_type": "stream",
          "name": "stdout",
          "text": [
            "Requirement already satisfied: tabulate in /usr/local/lib/python3.10/dist-packages (0.8.10)\n"
          ]
        }
      ]
    },
    {
      "cell_type": "code",
      "source": [
        "from tabulate import tabulate\n",
        "\n",
        "# Create table\n",
        "table = [[\"TPR\", tpr],\n",
        "         [\"FPR\", fpr],\n",
        "         [\"Precision\", precision],\n",
        "         [\"Recall\", recall],\n",
        "         [\"F-Measure\", f_measure]]\n",
        "\n",
        "# Print table\n",
        "print(tabulate(table, headers=[\"Metric\", \"Value\"], tablefmt=\"grid\"))"
      ],
      "metadata": {
        "colab": {
          "base_uri": "https://localhost:8080/"
        },
        "id": "bGccvH8BAskt",
        "outputId": "2007208f-efbe-4903-b375-d1ac24f8932f"
      },
      "execution_count": null,
      "outputs": [
        {
          "output_type": "stream",
          "name": "stdout",
          "text": [
            "+-----------+----------------------------------------------------------------------------------------------------------------------------------------------------------------------------------------------+\n",
            "| Metric    | Value                                                                                                                                                                                        |\n",
            "+===========+==============================================================================================================================================================================================+\n",
            "| TPR       | {0: array([0.        , 0.06896552, 1.        ]), 1: array([0.        , 0.06666667, 1.        ]), 2: array([0., 1.]), 3: array([0.        , 0.90909091, 1.        ]), 4: array([0., 1., 1.])} |\n",
            "+-----------+----------------------------------------------------------------------------------------------------------------------------------------------------------------------------------------------+\n",
            "| FPR       | {0: array([0.        , 0.04347826, 1.        ]), 1: array([0.  , 0.05, 1.  ]), 2: array([0., 1.]), 3: array([0.      , 0.953125, 1.      ]), 4: array([0.        , 0.94117647, 1.        ])} |\n",
            "+-----------+----------------------------------------------------------------------------------------------------------------------------------------------------------------------------------------------+\n",
            "| Precision | {0: 0.38666666666666666, 1: 0.0, 2: 0.0, 3: 0.0, 4: 1.0}                                                                                                                                     |\n",
            "+-----------+----------------------------------------------------------------------------------------------------------------------------------------------------------------------------------------------+\n",
            "| Recall    | {0: 1.0, 1: 0.0, 2: 0.0, 3: 0.0, 4: 0.0}                                                                                                                                                     |\n",
            "+-----------+----------------------------------------------------------------------------------------------------------------------------------------------------------------------------------------------+\n",
            "| F-Measure | {0: 0.5576923076923077, 1: 0.0, 2: 0.0, 3: 0.0, 4: 0.0}                                                                                                                                      |\n",
            "+-----------+----------------------------------------------------------------------------------------------------------------------------------------------------------------------------------------------+\n"
          ]
        }
      ]
    }
  ],
  "metadata": {
    "colab": {
      "provenance": [],
      "authorship_tag": "ABX9TyPnK3qYvNA5SWkAAuzxqlqr"
    },
    "kernelspec": {
      "display_name": "Python 3",
      "name": "python3"
    },
    "language_info": {
      "name": "python"
    }
  },
  "nbformat": 4,
  "nbformat_minor": 0
}